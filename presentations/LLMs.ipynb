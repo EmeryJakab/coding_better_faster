{
 "cells": [
  {
   "cell_type": "markdown",
   "metadata": {},
   "source": [
    "# Large Language Models and Coding"
   ]
  },
  {
   "cell_type": "markdown",
   "metadata": {},
   "source": [
    "## What We Said Last Year..."
   ]
  },
  {
   "cell_type": "markdown",
   "metadata": {},
   "source": [
    "## There's Never Been an Easier Time to Write Good Code\n",
    "\n",
    "By using Large Language Models (LLMs), you can more quickly go from code that runs to code you can build on.\n",
    "\n",
    "They can:\n",
    "\n",
    "    * Offer suggestions for code refactoring/organization/functions\n",
    "    * Write you documentation -- both your readme file and function-level documnentation\n",
    "    * Shorten the learning curve for practices like using git for version control\n",
    "    * Write your unit tests and virtual environments\n",
    "\n",
    "You should still expect to be troubleshooting and editing everything these write.\n",
    "\n",
    "**That may change, but it hasn't yet**\n"
   ]
  },
  {
   "cell_type": "markdown",
   "metadata": {},
   "source": [
    "# Coding Is Another Kind of Text Synthesis and Prediction\n",
    "\n",
    "- LLMs are text sythesis and prediction machines, and coding is another kind of text\n",
    "- The LLMs you'll use were trained on A LOT OF CODE -- but how much varies by language"
   ]
  },
  {
   "cell_type": "markdown",
   "metadata": {},
   "source": [
    "# How Well Do LLMs Work For Coding?\n",
    "\n",
    "- It depends on the language and the LLM\n",
    "- There are different \"benchmarks\" comparing performance\n",
    "- A lot of people are using this for coding and find it helpful"
   ]
  },
  {
   "cell_type": "markdown",
   "metadata": {},
   "source": [
    " # What Has Changed In The Last Year? \n",
    "\n",
    " - Greater familiarity with LLMs\n",
    " - Improvement in the foundation models\n",
    " - Improvement/expansion in the tooling around those models"
   ]
  },
  {
   "cell_type": "markdown",
   "metadata": {},
   "source": [
    "# Tooling Examples"
   ]
  },
  {
   "cell_type": "markdown",
   "metadata": {},
   "source": [
    "# Shiny Assistant\n",
    "\n",
    "![Alt text](images/shiny_assistant.png)\n"
   ]
  },
  {
   "cell_type": "markdown",
   "metadata": {},
   "source": [
    "# Side-By-Side Code And Text With Claude\n",
    "\n",
    "![Alt text](images/claude.png)\n",
    "\n"
   ]
  },
  {
   "cell_type": "markdown",
   "metadata": {},
   "source": [
    "# Side-By-Side Code And Text With Canvas\n",
    "\n",
    "![Alt text](images/canvas.png)"
   ]
  },
  {
   "cell_type": "markdown",
   "metadata": {},
   "source": [
    "# Cursor: IDE For AI-Generated Code and Chat\n",
    "\n",
    "![Alt text](images/cursor.png)"
   ]
  },
  {
   "cell_type": "markdown",
   "metadata": {},
   "source": [
    "# \"It's Better!\" Examples\n",
    "\n",
    "- Gets more correct on the first try\n",
    "- Better able to handle complex topics"
   ]
  },
  {
   "cell_type": "markdown",
   "metadata": {},
   "source": [
    "# Still Struggles With Certain Things\n",
    "\n",
    "* Code style, organization\n",
    "* Suggests tweaking packages\n",
    "* Reverts things you fixed already!\n",
    "* Makes weird suggestions - couldn't find answers to my optimization problems, so suggested *changing the constraints*"
   ]
  }
 ],
 "metadata": {
  "language_info": {
   "name": "python"
  },
  "orig_nbformat": 4
 },
 "nbformat": 4,
 "nbformat_minor": 2
}
