{
 "cells": [
  {
   "cell_type": "markdown",
   "metadata": {},
   "source": [
    "## Introduction to GitHub Copilot"
   ]
  },
  {
   "cell_type": "markdown",
   "metadata": {},
   "source": [
    "### Copilot is Microsoft's $10/month 'pair programmer'\n",
    "\n",
    "* Completes your text describing what you want to do\n",
    "* Writes code based on text\n",
    "* Available in RStudio and VSCode (with additional functionality available in VSCode)\n",
    "* You can bring your Copilot credential into any/multiple IDEs"
   ]
  },
  {
   "cell_type": "markdown",
   "metadata": {},
   "source": [
    "### How To Sign Up\n",
    "\n",
    "<img src=\"images/copilot_signup.png\" width=\"500\"/>\n",
    "\n",
    "1. Need a GitHub account\n",
    "2. Go to github.com/settings/copilot - follow the directions"
   ]
  },
  {
   "cell_type": "markdown",
   "metadata": {},
   "source": [
    "### Installation in RStudio\n",
    "\n",
    "<img src=\"images/rstudio_directions.png\" width=\"500\"/>\n",
    "\n",
    "- Update RStudio\n",
    "- Go to Tools/Global Options\n",
    "- Connect your Copilot account\n"
   ]
  },
  {
   "cell_type": "markdown",
   "metadata": {},
   "source": [
    "\n",
    "### How Do I Interact With This?: Finishing My Comments\n",
    "\n",
    "<img src=\"images/comment_completion.png\">\n",
    "\n",
    "1. You can see the 'ghost text' that it's written\n",
    "2. You can see \"Copilot: Completion response received.\"\n",
    "3. Press \"tab\" to accept the text\n"
   ]
  },
  {
   "cell_type": "markdown",
   "metadata": {},
   "source": [
    "\n",
    "### How Do I Interact With This?: Writing Code\n",
    "\n",
    "<img src=\"images/first_ghost_code.png\">\n",
    "\n",
    "\n",
    "1. Keep pressing enter\n",
    "2. Press tab to accept the code\n",
    "3. Repeat the process\n",
    "\n",
    "\n",
    "<img src=\"images/second_ghost_code.png\">\n",
    "\n",
    "4. Keep going!\n",
    "\n",
    "<img src=\"images/third_ghost_code.png\">"
   ]
  },
  {
   "cell_type": "markdown",
   "metadata": {},
   "source": [
    "### What about chatting with the LLM?\n",
    "\n",
    "* VSCode, or Visual Studio Code, is a tool for developers\n",
    "* There's a R extension for writing R Code\n",
    "* There's a \"Chat\" extension for Copilot\n",
    "\n",
    "<img src=\"images/copilot_chat_1.png\">\n",
    "\n",
    "Press enter\n",
    "\n",
    "<img src=\"images/copilot_chat_2.png\">\n",
    "\n",
    "Accept\n",
    "\n",
    "<img src=\"images/copilot_chat_3.png\">\n"
   ]
  },
  {
   "cell_type": "markdown",
   "metadata": {},
   "source": [
    "### That's Not All\n",
    "\n",
    "*  GitHub Copilot Labs is another extension you can install with additional functionality\n",
    "\n",
    "<img src=\"images/copilot_other_things.png\">"
   ]
  },
  {
   "cell_type": "markdown",
   "metadata": {},
   "source": [
    "### Explain\n",
    "\n",
    "<img src=\"images/explain.png\">"
   ]
  },
  {
   "cell_type": "markdown",
   "metadata": {},
   "source": [
    "### Generate Docs\n",
    "\n",
    "<img src=\"images/document.png\">"
   ]
  },
  {
   "cell_type": "markdown",
   "metadata": {},
   "source": [
    "### So Which Should I Use?\n",
    "\n",
    "If you're able to use and comfortable with VSCode (or interested in getting comfortable with it), it offers significantly great functionality."
   ]
  }
 ],
 "metadata": {
  "language_info": {
   "name": "python"
  },
  "orig_nbformat": 4
 },
 "nbformat": 4,
 "nbformat_minor": 2
}
