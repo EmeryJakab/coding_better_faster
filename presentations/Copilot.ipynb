{
 "cells": [
  {
   "cell_type": "markdown",
   "metadata": {},
   "source": [
    "## Using Git for Version Control"
   ]
  },
  {
   "cell_type": "markdown",
   "metadata": {},
   "source": [
    "### You're Familiar With Primitive Version Control\n",
    "\n",
    "![Incorrect](images/primative_version_control.jpg)"
   ]
  },
  {
   "cell_type": "markdown",
   "metadata": {},
   "source": [
    "### Why Not To Do That\n",
    "\n",
    "- Difficult to collaborate\n",
    "- Difficult to see changes across versions\n",
    "- Easy to wind up losing changes you made\n",
    "- Difficult to figure out when or why a change was made"
   ]
  },
  {
   "cell_type": "markdown",
   "metadata": {},
   "source": [
    "### What Do All Version Control Tools Let You Do?\n",
    "\n",
    "- Save over documents without losing record of changes\n",
    "- Revert to previous versions\n",
    "- Compare previous versions\n",
    "\n",
    "_If you're using Databricks or Foundry or some other coding platform, there may be built-in version control tools with GUIs_"
   ]
  },
  {
   "cell_type": "markdown",
   "metadata": {},
   "source": [
    "\n",
    "### Do I Need Formal Version Control?\n",
    "\n",
    "<span style=\"color:green;\">✓</span> I am writing code"
   ]
  },
  {
   "cell_type": "markdown",
   "metadata": {},
   "source": [
    "### Introduction to git\n",
    "\n",
    "* Git is open-source software (free to download, you can see the source code)\n",
    "* You can work locally (by yourself, on your computer)\n",
    "* You can \"push\" your code to a git server like GitHub, GitLab, or something IT has set up:\n",
    "* Git allow \"branching\", or creating multiple streams and then merging them into each other (or not):\n",
    "    - Allows for production vs. work versions\n",
    "    - Allows for collaboration"
   ]
  },
  {
   "cell_type": "markdown",
   "metadata": {},
   "source": [
    "### Getting Started With Git\n",
    "\n",
    "0. Install git\n",
    "1. Pick a folder for your project\n",
    "2. Initalize a repo \n",
    "3. Add files to the repo\n",
    "4. Commit those files\n",
    "\n",
    "*You might also:*\n",
    "5. Create a GitHub account\n",
    "6. Connect to a repote repository (like on GitHub) and push or pull from it\n",
    "7. Make different branches\n",
    "8. Interact with your remote repo in other ways, like via branching and pull requests"
   ]
  },
  {
   "cell_type": "markdown",
   "metadata": {},
   "source": [
    "### Git has a GUI\n",
    "\n",
    "<img src=\"images/git_gui.jpg\" width=\"500\"/>"
   ]
  },
  {
   "cell_type": "markdown",
   "metadata": {},
   "source": [
    "### Git Has a Command Line Interface\n",
    "\n",
    "<img src=\"images/git_bash.jpg\" width=\"500\"/>"
   ]
  },
  {
   "cell_type": "markdown",
   "metadata": {},
   "source": [
    "### This Is a Git Repo\n",
    "\n",
    "<img src=\"images/git_repo.jpg\" width=\"500\"/>"
   ]
  },
  {
   "cell_type": "markdown",
   "metadata": {},
   "source": [
    "### Do I Need a Repo on a Git Server?\n",
    "\n",
    "<span style=\"color:green;\">✓</span> Multiple people need to be able to work on this code simultaneously\n",
    "\n",
    "<span style=\"color:green;\">✓</span> There's a version that needs to be 'in production' while I work on the code\n",
    "\n",
    "<span style=\"color:green;\">✓</span> I want to share this code with other people\n",
    "\n",
    "<span style=\"color:green;\">✓</span> This code creates deliverables, and I want people to be able to understand and/or reproduce them\n",
    "\n"
   ]
  },
  {
   "cell_type": "markdown",
   "metadata": {},
   "source": [
    "### ChatGPT Excels at Helping\n",
    "\n",
    "<img src=\"images/git_repo_ask.png\" width=\"500\"/>"
   ]
  },
  {
   "cell_type": "markdown",
   "metadata": {},
   "source": [
    "### Ways You Prompt for Assistance\n",
    "\n",
    "* Ask for specific instructions:\n",
    "    * how do I create a repository?\n",
    "    * how do I merge two branches?\n",
    "* Paste in the errors you get and ask for help\n",
    "* State your general goals and ask for advice"
   ]
  },
  {
   "cell_type": "markdown",
   "metadata": {},
   "source": [
    "### Exercise: Getting Today's Code on Your Computer\n",
    "\n",
    "Full Version:\n",
    "\n",
    "1. Fork the Repository on GitHub. (link)\n",
    "2. Clone your forked repository locally\n",
    "3. Change directory into the cloned repository\n",
    "4. Create a new branch\n",
    "5. Make and save a change (you can just add your name or do something else trivial)\n",
    "6. Add and commit\n",
    "7. Push changes to your GitHub repository\n",
    "8. Check that they made it\n",
    "\n",
    "Slightly Easier Version:\n",
    "\n",
    "1. Download the repo as a zip file\n",
    "2. Make and save a change\n",
    "3. Add and commit\n",
    "4. Create a new repo on your GitHub profile\n",
    "5. Push to that repo\n",
    "6. Check that it worked\n",
    "\n",
    "You may find resources like [git intros](https://www.freecodecamp.org/news/introduction-to-git-and-github/) useful. \n",
    "But also, experiment with getting your LLM to assist you. \n"
   ]
  },
  {
   "cell_type": "markdown",
   "metadata": {},
   "source": [
    "### Regrouping/Discussion\n",
    "\n",
    "* Some of these commands you will learn by heart, others you may do infrequently enough that you ask for help"
   ]
  }
 ],
 "metadata": {
  "language_info": {
   "name": "python"
  },
  "orig_nbformat": 4
 },
 "nbformat": 4,
 "nbformat_minor": 2
}
