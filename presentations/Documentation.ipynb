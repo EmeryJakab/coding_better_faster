{
 "cells": [
  {
   "cell_type": "markdown",
   "metadata": {},
   "source": [
    "## Documentation: Writing Down What You Know Before You Forget"
   ]
  },
  {
   "cell_type": "markdown",
   "metadata": {},
   "source": [
    "### Documentation is a description of your code, what it's doing, and how to use it\n",
    "\n",
    "\n",
    "We write this for:\n",
    "1. Users (like, if you're writing a package)\n",
    "2. People who may need to build on your code (like, coworkers)\n",
    "3. Yourself in the future!\n",
    "\n",
    "Different types of project call for different amounts/types of documentation -- but the answer is rarely \"none.\""
   ]
  },
  {
   "cell_type": "markdown",
   "metadata": {},
   "source": [
    "### This is the wrong attitude\n",
    "\n",
    "![Incorrect](images/wrong_attitude_documentation.jpg)\n",
    "\n",
    "Documentation is a complement, not a replacement for writing good code."
   ]
  },
  {
   "cell_type": "markdown",
   "metadata": {},
   "source": [
    "### Repository-Level Documentation: Your Readme File\n",
    "\n",
    "* High-level description of your project\n",
    "* Might include:\n",
    "    * What your repo does\n",
    "    * How to use it\n",
    "    * How to contribute to it\n",
    "* You can create this if you're not using version control tools"
   ]
  },
  {
   "cell_type": "markdown",
   "metadata": {},
   "source": [
    "### Example Readme File for a Package\n",
    "\n",
    "![Example readme](images/readme_example.jpg)"
   ]
  },
  {
   "cell_type": "markdown",
   "metadata": {},
   "source": [
    "\n",
    "### Do I Need a Readme? \n",
    "\n",
    "<span style=\"color:green;\">✓</span> My code produces a report or other deliverable\n",
    "\n",
    "<span style=\"color:green;\">✓</span> I want other people to be able to use my code\n",
    "\n",
    "<span style=\"color:green;\">✓</span> My project has multiple files of code, input, or output\n",
    "\n",
    "<span style=\"color:green;\">✓</span> I want to understand my code a year from now"
   ]
  },
  {
   "cell_type": "markdown",
   "metadata": {},
   "source": [
    "## Example Readme for Not-A-Library\n",
    "\n",
    "Things to note:\n",
    "\n",
    "1. Title\n",
    "2. Description\n",
    "3. Requirements (may also put these in a .txt file)\n",
    "4. How to run\n",
    "5. Inputs and outputs\n",
    "\n",
    "__Your needs may differ. You might also want:__\n",
    "\n",
    "6. License\n",
    "7. How to contact you\n",
    "8. How to contribute\n",
    "9. More informatin on who this is for/use case\n",
    "\n"
   ]
  },
  {
   "cell_type": "markdown",
   "metadata": {},
   "source": [
    "# Project Title: Resume Evaluator\n",
    "\n",
    "## Description\n",
    "\n",
    "This project contains Python code for evaluating resumes for data science roles. It leverages AI models to generate and evaluate synthetic resumes.\n",
    "\n",
    "The project contains three main components:\n",
    "\n",
    "1. `generate_resumes.py`: This module is used for generating synthetic resumes using an AI model.\n",
    "\n",
    "2. `gpt_prompt_software.py`: This module is used for evaluating the synthetic resumes using another AI model.\n",
    "\n",
    "3. `model_evaluation_formal.py`: This module is used to analyze the responses from the AI model and calculate cross-tabulations.\n",
    "\n",
    "4. `main.py`: This script orchestrates the entire process by calling the functions in the above modules in the correct order.\n",
    "\n",
    "## Requirements\n",
    "\n",
    "The project requires the following Python libraries:\n",
    "\n",
    "- `pandas`\n",
    "- `openai`\n",
    "- `tabulate`\n",
    "- `json`\n",
    "- `unicodedata`\n",
    "- `time`\n",
    "- `requests`\n",
    "\n",
    "## Usage\n",
    "\n",
    "First, ensure that all required libraries are installed in your Python environment. Then, navigate to the project directory and run the `main.py` script:\n",
    "\n",
    "```bash\n",
    "python main.py\n",
    "```\n",
    "\n",
    "### File Descriptions\n",
    "\n",
    "- `main.py`: Main script that orchestrates the entire process.\n",
    "- `generate_resumes.py`: Module for generating synthetic resumes.\n",
    "- `gpt_prompt_software.py`: Module for evaluating synthetic resumes.\n",
    "- `model_evaluation_formal.py`: Module for analyzing AI model responses and calculating cross-tabulations.\n",
    "- `key.txt`: Your OpenAI API key (not provided in the repository, you have to provide it).\n",
    "\n",
    "### Inputs\n",
    "\n",
    "The main input is a series of prompts defined in `main.py`, which are used for evaluating the synthetic resumes.\n",
    "\n",
    "### Outputs\n",
    "\n",
    "The output is a .csv file containing synthetic resumes and their evaluations, as well as a .txt file containing cross-tabulation tables.\n",
    "\n",
    "## Note\n",
    "\n",
    "This project uses OpenAI's GPT-4 and GPT-3.5-turbo models. Please ensure you have API access to these models and have the necessary keys and tokens."
   ]
  },
  {
   "cell_type": "markdown",
   "metadata": {},
   "source": [
    "## Function-Level Documentation\n",
    "\n",
    "Description of each function's:\n",
    "\n",
    "* Purpose\n",
    "* Parameters\n",
    "* Return values\n",
    "* Sometimes, other things"
   ]
  },
  {
   "cell_type": "markdown",
   "metadata": {},
   "source": [
    "\n",
    "### Do I Need Function-Level Documentation?\n",
    "\n",
    "\n",
    "<span style=\"color:green;\">✓</span> I'm writing software (users autonomously run my code)\n",
    "\n",
    "<span style=\"color:green;\">✓</span> I'm generating reports or other outputs and someone needs to understand every step\n",
    "\n",
    "<span style=\"color:green;\">✓</span> My coworkers need to be able to pick this up and easily build on it\n",
    "\n",
    "<span style=\"color:green;\">✓</span> I really, really want to understand my code a year from now"
   ]
  },
  {
   "cell_type": "markdown",
   "metadata": {},
   "source": [
    "## Examples of Function-Level Documentation\n",
    "\n",
    "\n",
    "![Example readme](images/regular_comments.jpg)\n"
   ]
  },
  {
   "cell_type": "markdown",
   "metadata": {},
   "source": [
    "## roxygen2: What and Why?\n",
    "\n",
    "![Example readme](images/roxygen2.jpg)\n",
    "\n",
    "* Provides standardized format for documentation\n",
    "* Can use to generate official R documentation files\n",
    "* Lets users pull up documentation via ?function_name.\n",
    "\n",
    "![Example readme](images/roxygen_comments.jpg)"
   ]
  },
  {
   "cell_type": "markdown",
   "metadata": {},
   "source": [
    "You can write comments without roxygen2, but if you're writing an R package, you may want to use it."
   ]
  },
  {
   "cell_type": "markdown",
   "metadata": {},
   "source": [
    "### How Can LLMs Help Me?\n",
    "\n",
    "* Ask specifically for what you want\n",
    "* Paste in your code\n",
    "* Expect to iterate"
   ]
  },
  {
   "cell_type": "markdown",
   "metadata": {},
   "source": [
    "## Exercise: We're Going to Document Some Code\n",
    "\n",
    "1. If you haven't downloaded or cloned the git repo for this workshop, do so now.\n",
    "2. Get help from your LLM on writing a readme and function-level documentation.\n",
    "3. Try multiple prompts and see what you get.\n",
    "4. Generate both regular commented documentation and roxygen2-style comments.\n",
    "5. For the readme, because you don't have context for this code, you can make up a context that's consistent with what it does.\n",
    "6. We'll be here for you to ask questions. \n"
   ]
  },
  {
   "cell_type": "markdown",
   "metadata": {},
   "source": [
    "### Regrouping/Discussion"
   ]
  }
 ],
 "metadata": {
  "language_info": {
   "name": "python"
  },
  "orig_nbformat": 4
 },
 "nbformat": 4,
 "nbformat_minor": 2
}
